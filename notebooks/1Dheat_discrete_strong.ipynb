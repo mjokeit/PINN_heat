{
  "nbformat": 4,
  "nbformat_minor": 0,
  "metadata": {
    "colab": {
      "name": "1Dheat_discrete_strong.ipynb",
      "provenance": [],
      "collapsed_sections": [
        "9XkbF-bvDY82"
      ],
      "toc_visible": true,
      "include_colab_link": true
    },
    "kernelspec": {
      "name": "python3",
      "display_name": "Python 3"
    },
    "accelerator": "GPU"
  },
  "cells": [
    {
      "cell_type": "markdown",
      "metadata": {
        "id": "view-in-github",
        "colab_type": "text"
      },
      "source": [
        "<a href=\"https://colab.research.google.com/github/mjokeit/PINN_heat/blob/master/notebooks/1Dheat_discrete_strong.ipynb\" target=\"_parent\"><img src=\"https://colab.research.google.com/assets/colab-badge.svg\" alt=\"Open In Colab\"/></a>"
      ]
    },
    {
      "cell_type": "markdown",
      "metadata": {
        "id": "t-0AQRvfhI91",
        "colab_type": "text"
      },
      "source": [
        "# Discrete PINN for heat equation with strong enforcement of boundary conditions\n",
        "\n",
        "First, check if GPU hardware acceleration is selected in \"Runtime\" -> \"Change runtime type\"."
      ]
    },
    {
      "cell_type": "markdown",
      "metadata": {
        "id": "9XkbF-bvDY82",
        "colab_type": "text"
      },
      "source": [
        "# mount google drive (optional)"
      ]
    },
    {
      "cell_type": "code",
      "metadata": {
        "id": "k81z3ScvDYJh",
        "colab_type": "code",
        "colab": {}
      },
      "source": [
        "# from google.colab import drive\n",
        "# drive.mount('/content/drive')"
      ],
      "execution_count": null,
      "outputs": []
    },
    {
      "cell_type": "markdown",
      "metadata": {
        "id": "O8zHw1n0Hsaw",
        "colab_type": "text"
      },
      "source": [
        "if you want to access/store files directly in your google drive"
      ]
    },
    {
      "cell_type": "code",
      "metadata": {
        "id": "2A6mM4x_D480",
        "colab_type": "code",
        "colab": {}
      },
      "source": [
        "# import os\n",
        "# if os.getcwd() != '/content/drive/My Drive/Colab Notebooks/PINNs':\n",
        "#   os.chdir('/content/drive/My Drive/Colab Notebooks/PINNs')"
      ],
      "execution_count": null,
      "outputs": []
    },
    {
      "cell_type": "markdown",
      "metadata": {
        "id": "qO6obp4wsJBr",
        "colab_type": "text"
      },
      "source": [
        "# download data"
      ]
    },
    {
      "cell_type": "code",
      "metadata": {
        "id": "3WsfE5QrvjQt",
        "colab_type": "code",
        "colab": {
          "base_uri": "https://localhost:8080/",
          "height": 544
        },
        "outputId": "53d910ce-2e59-4fe8-b276-e18cd6a5d4c7"
      },
      "source": [
        "!wget https://github.com/mjokeit/PINN_heat/raw/master/discrete_time_inference/data/heat1D.mat"
      ],
      "execution_count": 12,
      "outputs": [
        {
          "output_type": "stream",
          "text": [
            "--2020-07-31 17:01:52--  https://github.com/mjokeit/PINN_heat/raw/master/discrete_time_inference/data/heat1D.mat\n",
            "Resolving github.com (github.com)... 192.30.255.112\n",
            "Connecting to github.com (github.com)|192.30.255.112|:443... connected.\n",
            "HTTP request sent, awaiting response... 302 Found\n",
            "Location: https://raw.githubusercontent.com/mjokeit/PINN_heat/master/discrete_time_inference/data/heat1D.mat [following]\n",
            "--2020-07-31 17:01:52--  https://raw.githubusercontent.com/mjokeit/PINN_heat/master/discrete_time_inference/data/heat1D.mat\n",
            "Resolving raw.githubusercontent.com (raw.githubusercontent.com)... 151.101.0.133, 151.101.64.133, 151.101.128.133, ...\n",
            "Connecting to raw.githubusercontent.com (raw.githubusercontent.com)|151.101.0.133|:443... connected.\n",
            "HTTP request sent, awaiting response... 200 OK\n",
            "Length: 820797 (802K) [application/octet-stream]\n",
            "Saving to: ‘heat1D.mat.1’\n",
            "\n",
            "heat1D.mat.1        100%[===================>] 801.56K  --.-KB/s    in 0.06s   \n",
            "\n",
            "2020-07-31 17:01:53 (13.2 MB/s) - ‘heat1D.mat.1’ saved [820797/820797]\n",
            "\n",
            "--2020-07-31 17:01:53--  https://github.com/mjokeit/PINN_heat/raw/master/utilities/IRK_weights\n",
            "Resolving github.com (github.com)... 140.82.112.3\n",
            "Connecting to github.com (github.com)|140.82.112.3|:443... connected.\n",
            "HTTP request sent, awaiting response... 301 Moved Permanently\n",
            "Location: https://github.com/mjokeit/PINN_heat/tree/master/utilities/IRK_weights [following]\n",
            "--2020-07-31 17:01:54--  https://github.com/mjokeit/PINN_heat/tree/master/utilities/IRK_weights\n",
            "Reusing existing connection to github.com:443.\n",
            "HTTP request sent, awaiting response... 200 OK\n",
            "Length: unspecified [text/html]\n",
            "Saving to: ‘IRK_weights’\n",
            "\n",
            "IRK_weights             [ <=>                ] 111.55K   650KB/s    in 0.2s    \n",
            "\n",
            "2020-07-31 17:01:54 (650 KB/s) - ‘IRK_weights’ saved [114227]\n",
            "\n"
          ],
          "name": "stdout"
        }
      ]
    },
    {
      "cell_type": "markdown",
      "metadata": {
        "id": "lTZtIgQ21iL-",
        "colab_type": "text"
      },
      "source": [
        "# download weights"
      ]
    },
    {
      "cell_type": "code",
      "metadata": {
        "id": "kTeLjlTd1kNO",
        "colab_type": "code",
        "colab": {
          "base_uri": "https://localhost:8080/",
          "height": 731
        },
        "outputId": "8ba84fc9-6ec8-41b9-cfb8-e483281b1472"
      },
      "source": [
        "!wget https://github.com/mjokeit/PINN_heat/raw/master/utilities/IRK_weights/Butcher_IRK.zip\n",
        "!unzip Butcher_IRK.zip "
      ],
      "execution_count": 15,
      "outputs": [
        {
          "output_type": "stream",
          "text": [
            "--2020-07-31 17:07:34--  https://github.com/mjokeit/PINN_heat/raw/master/utilities/IRK_weights/Butcher_IRK.zip\n",
            "Resolving github.com (github.com)... 192.30.255.112\n",
            "Connecting to github.com (github.com)|192.30.255.112|:443... connected.\n",
            "HTTP request sent, awaiting response... 302 Found\n",
            "Location: https://raw.githubusercontent.com/mjokeit/PINN_heat/master/utilities/IRK_weights/Butcher_IRK.zip [following]\n",
            "--2020-07-31 17:07:34--  https://raw.githubusercontent.com/mjokeit/PINN_heat/master/utilities/IRK_weights/Butcher_IRK.zip\n",
            "Resolving raw.githubusercontent.com (raw.githubusercontent.com)... 151.101.0.133, 151.101.64.133, 151.101.128.133, ...\n",
            "Connecting to raw.githubusercontent.com (raw.githubusercontent.com)|151.101.0.133|:443... connected.\n",
            "HTTP request sent, awaiting response... 200 OK\n",
            "Length: 6433335 (6.1M) [application/zip]\n",
            "Saving to: ‘Butcher_IRK.zip.1’\n",
            "\n",
            "\rButcher_IRK.zip.1     0%[                    ]       0  --.-KB/s               \rButcher_IRK.zip.1   100%[===================>]   6.13M  33.5MB/s    in 0.2s    \n",
            "\n",
            "2020-07-31 17:07:34 (33.5 MB/s) - ‘Butcher_IRK.zip.1’ saved [6433335/6433335]\n",
            "\n",
            "Archive:  Butcher_IRK.zip\n",
            "  inflating: Butcher_IRK0.txt        \n",
            "  inflating: Butcher_IRK1.txt        \n",
            "  inflating: Butcher_IRK2.txt        \n",
            "  inflating: Butcher_IRK2_times.txt  \n",
            "  inflating: Butcher_IRK3.txt        \n",
            "  inflating: Butcher_IRK4.txt        \n",
            "  inflating: Butcher_IRK5.txt        \n",
            "  inflating: Butcher_IRK6.txt        \n",
            "  inflating: Butcher_IRK7.txt        \n",
            "  inflating: Butcher_IRK8.txt        \n",
            "  inflating: Butcher_IRK9.txt        \n",
            "  inflating: Butcher_IRK10.txt       \n",
            "  inflating: Butcher_IRK20.txt       \n",
            "  inflating: Butcher_IRK30.txt       \n",
            "  inflating: Butcher_IRK40.txt       \n",
            "  inflating: Butcher_IRK50.txt       \n",
            "  inflating: Butcher_IRK60.txt       \n",
            "  inflating: Butcher_IRK70.txt       \n",
            "  inflating: Butcher_IRK80.txt       \n",
            "  inflating: Butcher_IRK90.txt       \n",
            "  inflating: Butcher_IRK100.txt      \n",
            "  inflating: Butcher_IRK200.txt      \n",
            "  inflating: Butcher_IRK300.txt      \n",
            "  inflating: Butcher_IRK400.txt      \n",
            "  inflating: Butcher_IRK500.txt      \n"
          ],
          "name": "stdout"
        }
      ]
    },
    {
      "cell_type": "markdown",
      "metadata": {
        "id": "J7FHUNsWr-sk",
        "colab_type": "text"
      },
      "source": [
        "# install pyDOE"
      ]
    },
    {
      "cell_type": "code",
      "metadata": {
        "id": "3r8rE549o30P",
        "colab_type": "code",
        "colab": {
          "base_uri": "https://localhost:8080/",
          "height": 34
        },
        "outputId": "6bfb7b0f-ed31-41d5-89a7-b141d50083a2"
      },
      "source": [
        "!pip install -q pyDOE"
      ],
      "execution_count": 2,
      "outputs": [
        {
          "output_type": "stream",
          "text": [
            "  Building wheel for pyDOE (setup.py) ... \u001b[?25l\u001b[?25hdone\n"
          ],
          "name": "stdout"
        }
      ]
    },
    {
      "cell_type": "markdown",
      "metadata": {
        "id": "fYJGchoCmfQ-",
        "colab_type": "text"
      },
      "source": [
        "# import plotting"
      ]
    },
    {
      "cell_type": "code",
      "metadata": {
        "id": "gtEDSPscmSxx",
        "colab_type": "code",
        "colab": {}
      },
      "source": [
        "#!/usr/bin/env python3\n",
        "# -*- coding: utf-8 -*-\n",
        "\"\"\"\n",
        "Created on Mon Oct  9 20:11:57 2017\n",
        "\n",
        "@author: mraissi\n",
        "\"\"\"\n",
        "\n",
        "import numpy as np\n",
        "import matplotlib\n",
        "\n",
        "def figsize(scale, nplots = 1):\n",
        "    fig_width_pt = 390.0                          # Get this from LaTeX using \\the\\textwidth\n",
        "    inches_per_pt = 1.0/72.27                       # Convert pt to inch\n",
        "    golden_mean =  (np.sqrt(5.0)-1.0)/2.0 # 1/0.707       # Aesthetic ratio (you could change this)\n",
        "    fig_width = fig_width_pt*inches_per_pt*scale    # width in inches\n",
        "    fig_height = nplots*fig_width*golden_mean              # height in inches\n",
        "    fig_size = [fig_width,fig_height]\n",
        "    return fig_size\n",
        "\n",
        "import matplotlib.pyplot as plt\n",
        "\n",
        "# I make my own newfig and savefig functions\n",
        "def newfig(width, nplots = 1):\n",
        "    fig = plt.figure(figsize=figsize(width, nplots))\n",
        "    ax = fig.add_subplot(111)\n",
        "    return fig, ax\n",
        "\n",
        "def savefig(filename, crop = True):\n",
        "    if crop == True:\n",
        "        fig = plt.gcf()\n",
        "#        plt.savefig('{}.pgf'.format(filename), bbox_inches='tight', pad_inches=0)\n",
        "        fig.savefig('{}.pdf'.format(filename), bbox_inches='tight', pad_inches=0)\n",
        "        fig.savefig('{}.eps'.format(filename), bbox_inches='tight', pad_inches=0)\n",
        "    else:\n",
        "        fig = plt.gcf()\n",
        "#        plt.savefig('{}.pgf'.format(filename))\n",
        "        fig.savefig('{}.pdf'.format(filename))\n",
        "        fig.savefig('{}.eps'.format(filename))"
      ],
      "execution_count": 19,
      "outputs": []
    },
    {
      "cell_type": "markdown",
      "metadata": {
        "id": "ZbCIQPO0nOzP",
        "colab_type": "text"
      },
      "source": [
        "# PINN class"
      ]
    },
    {
      "cell_type": "code",
      "metadata": {
        "id": "y6cPZ6jnvaio",
        "colab_type": "code",
        "colab": {}
      },
      "source": [
        "\"\"\"\n",
        "@author: Maziar Raissi\n",
        "@editor: Moritz Jokeit\n",
        "\"\"\"\n",
        "\n",
        "# import os\n",
        "# os.environ['TF_CPP_MIN_LOG_LEVEL'] = '3'  # or any {'0', '1', '2'}\n",
        "%tensorflow_version 1.x\n",
        "import tensorflow as tf\n",
        "import numpy as np\n",
        "# import matplotlib.pyplot as plt\n",
        "import scipy.io\n",
        "from scipy.interpolate import griddata\n",
        "from pyDOE import lhs\n",
        "from mpl_toolkits.mplot3d import Axes3D\n",
        "import time\n",
        "import matplotlib.gridspec as gridspec\n",
        "from mpl_toolkits.axes_grid1 import make_axes_locatable\n",
        "\n",
        "np.random.seed(1234)\n",
        "tf.set_random_seed(1234)\n",
        "\n",
        "\n",
        "\n",
        "class PhysicsInformedNN:\n",
        "    # Initialize the class\n",
        "    def __init__(self, x0, u0, x1, layers, t0, dt, lb, ub, q, max_iter):\n",
        "\n",
        "        self.lb = lb\n",
        "        self.ub = ub\n",
        "\n",
        "        self.x0 = x0\n",
        "        self.x1 = x1\n",
        "\n",
        "        self.u0 = u0\n",
        "\n",
        "        self.t0 = t0\n",
        "\n",
        "        self.layers = layers\n",
        "        self.dt = dt\n",
        "        self.q = max(q, 1)\n",
        "\n",
        "        # Initialize NN\n",
        "        self.weights, self.biases = self.initialize_NN(layers)\n",
        "\n",
        "        # Load IRK weights\n",
        "        tmp = np.float32(np.loadtxt('Butcher_IRK%d.txt' % (q), ndmin=2))\n",
        "        self.IRK_weights = np.reshape(tmp[0:q ** 2 + q], (q + 1, q))\n",
        "        self.IRK_times = tmp[q ** 2 + q:]\n",
        "\n",
        "        # tf placeholders and graph\n",
        "        self.sess = tf.Session(config=tf.ConfigProto(allow_soft_placement=True,\n",
        "                                                     log_device_placement=True))\n",
        "\n",
        "        self.x0_tf = tf.placeholder(tf.float32, shape=(None, self.x0.shape[1]))\n",
        "        self.x1_tf = tf.placeholder(tf.float32, shape=(None, self.x1.shape[1]))\n",
        "        self.u0_tf = tf.placeholder(tf.float32, shape=(None, self.u0.shape[1]))\n",
        "        self.dummy_x0_tf = tf.placeholder(tf.float32, shape=(None, self.q))  # dummy variable for fwd_gradients\n",
        "        self.dummy_x1_tf = tf.placeholder(tf.float32, shape=(None, self.q + 1))  # dummy variable for fwd_gradients\n",
        "\n",
        "        self.U0_pred = self.net_U0(self.x0_tf)  # N x (q+1)\n",
        "        self.U1_pred, self.U1_x_pred = self.net_U1(self.x1_tf)  # N1 x (q+1)\n",
        "\n",
        "        # LOSS FOR WEAK ENFORCEMENT OF CONSTRAINTS\n",
        "        # self.loss = tf.reduce_sum(tf.square(self.u0_tf - self.U0_pred)) + \\\n",
        "        #             tf.reduce_sum(tf.square(self.U1_x_pred[0,:])) + \\\n",
        "        #             tf.reduce_sum(tf.square(self.U1_x_pred[-1,:]))\n",
        "\n",
        "        # LOSS FOR STRONG ENFORCEMENT OF CONSTRAINTS\n",
        "        self.loss = tf.reduce_mean(tf.square(self.u0_tf - self.U0_pred))\n",
        "\n",
        "        self.optimizer = tf.contrib.opt.ScipyOptimizerInterface(self.loss,\n",
        "                                                                method='L-BFGS-B',\n",
        "                                                                options={'maxiter': max_iter,\n",
        "                                                                         'maxfun': 50000,\n",
        "                                                                         'maxcor': 50,\n",
        "                                                                         'maxls': 50,\n",
        "                                                                         'ftol': 1.0 * np.finfo(float).eps})\n",
        "\n",
        "        self.optimizer_Adam = tf.train.AdamOptimizer(0.001)\n",
        "        self.train_op_Adam = self.optimizer_Adam.minimize(self.loss)\n",
        "\n",
        "        init = tf.global_variables_initializer()\n",
        "        self.sess.run(init)\n",
        "\n",
        "    def initialize_NN(self, layers):\n",
        "        weights = []\n",
        "        biases = []\n",
        "        num_layers = len(layers)\n",
        "        for l in range(0, num_layers - 1):\n",
        "            W = self.xavier_init(size=[layers[l], layers[l + 1]])\n",
        "            b = tf.Variable(tf.zeros([1, layers[l + 1]], dtype=tf.float32), dtype=tf.float32)\n",
        "            weights.append(W)\n",
        "            biases.append(b)\n",
        "        return weights, biases\n",
        "\n",
        "    def xavier_init(self, size):\n",
        "        in_dim = size[0]\n",
        "        out_dim = size[1]\n",
        "        xavier_stddev = np.sqrt(2 / (in_dim + out_dim))\n",
        "        return tf.Variable(tf.truncated_normal([in_dim, out_dim], stddev=xavier_stddev), dtype=tf.float32)\n",
        "\n",
        "    def neural_net(self, X, weights, biases):\n",
        "        num_layers = len(weights) + 1\n",
        "\n",
        "        H = 2.0 * (X - self.lb) / (self.ub - self.lb) - 1.0\n",
        "        for l in range(0, num_layers - 2):\n",
        "            W = weights[l]\n",
        "            b = biases[l]\n",
        "            H = tf.tanh(tf.add(tf.matmul(H, W), b))\n",
        "        W = weights[-1]\n",
        "        b = biases[-1]\n",
        "        Y = tf.sinh(tf.add(tf.matmul(H, W), b))                         # SINH OUTPUT ACTIVATION\n",
        "        # Y = tf.add(tf.matmul(H, W), b)                                # LINEAR OUTPUT ACTIVATION\n",
        "        return Y\n",
        "\n",
        "    def fwd_gradients_0(self, U, x):\n",
        "        g = tf.gradients(U, x, grad_ys=self.dummy_x0_tf)[0]\n",
        "        return tf.gradients(g, self.dummy_x0_tf)[0]\n",
        "\n",
        "    def fwd_gradients_1(self, U, x):\n",
        "        g = tf.gradients(U, x, grad_ys=self.dummy_x1_tf)[0]\n",
        "        return tf.gradients(g, self.dummy_x1_tf)[0]\n",
        "\n",
        "    def net_U0(self, x):\n",
        "        U1 = (x-1)*x*self.neural_net(x, self.weights, self.biases)\n",
        "        U = U1[:, :-1]\n",
        "        U_x = self.fwd_gradients_0(U, x)\n",
        "        U_xx = self.fwd_gradients_0(U_x, x)\n",
        "\n",
        "        # computations for the rhs\n",
        "        t_max = 0.5\n",
        "        sigma = 0.02\n",
        "        u_max = 800\n",
        "        t = self.t0 + self.dt * self.IRK_times.T\n",
        "\n",
        "        p = 0.25 * np.cos(2 * np.pi * t / t_max) + 0.5\n",
        "        p_t = -0.5*(np.pi * np.sin(2 * np.pi * t / t_max)) / t_max\n",
        "\n",
        "        u_sol = u_max * tf.exp(-(x - p) ** 2 / (2 * sigma ** 2))\n",
        "\n",
        "        k_sol = 1.29 * 10 ** -2 * u_sol + 6.856\n",
        "        k_u_sol = 1.29 * 10 ** -2\n",
        "\n",
        "        c_sol = 4.55 * 10 ** -4 * u_sol ** 2 - 5.78 * 10 ** -3 * u_sol + 5.849 * 10 ** 2\n",
        "\n",
        "        fac_sigma = 1 / (sigma ** 2)\n",
        "        s = fac_sigma * k_sol * u_sol + u_sol * (x - p) * fac_sigma * (\n",
        "                c_sol * p_t - (x - p) * fac_sigma * (k_sol + u_sol * k_u_sol))\n",
        "\n",
        "\n",
        "        c = 4.55 * 10 ** -4 * U ** 2 - 5.78 * 10 ** -3 * U + 5.849 * 10 ** 2\n",
        "        k = 1.29 * 10 ** -2 * U + 6.856\n",
        "        k_u = 1.29 * 10 ** -2\n",
        "        k_x = k_u * U_x\n",
        "        F = (k_x * U_x + k * U_xx + s) / c\n",
        "        U0 = U1 - self.dt * tf.matmul(F, self.IRK_weights.T)\n",
        "        return U0\n",
        "\n",
        "    def net_U1(self, x):\n",
        "        U1 = (x-1)*x*self.neural_net(x, self.weights, self.biases)\n",
        "        U1_x = self.fwd_gradients_1(U1, x)\n",
        "        return U1, U1_x  # N x (q+1)\n",
        "\n",
        "    def callback(self, loss):\n",
        "        print('Loss:', loss)\n",
        "\n",
        "    def train(self, nIter):\n",
        "        tf_dict = {self.x0_tf: self.x0, self.u0_tf: self.u0, self.x1_tf: self.x1,\n",
        "                   self.dummy_x0_tf: np.ones((self.x0.shape[0], self.q)),\n",
        "                   self.dummy_x1_tf: np.ones((self.x1.shape[0], self.q + 1))}\n",
        "\n",
        "        start_time = time.time()\n",
        "        for it in range(nIter):\n",
        "            self.sess.run(self.train_op_Adam, tf_dict)\n",
        "\n",
        "            # Print\n",
        "            if it % 10 == 0:\n",
        "                elapsed = time.time() - start_time\n",
        "                loss_value = self.sess.run(self.loss, tf_dict)\n",
        "                print('It: %d, Loss: %.3e, Time: %.2f' %\n",
        "                      (it, loss_value, elapsed))\n",
        "                start_time = time.time()\n",
        "\n",
        "        self.optimizer.minimize(self.sess,\n",
        "                                feed_dict=tf_dict,\n",
        "                                fetches=[self.loss],\n",
        "                                loss_callback=self.callback)\n",
        "\n",
        "    def predict(self, x_star):\n",
        "\n",
        "        U1_star = self.sess.run(self.U1_pred, {self.x1_tf: x_star})\n",
        "\n",
        "        return U1_star\n",
        "\n"
      ],
      "execution_count": 20,
      "outputs": []
    },
    {
      "cell_type": "markdown",
      "metadata": {
        "id": "KMcRJzl0Vatg",
        "colab_type": "text"
      },
      "source": [
        "# define main"
      ]
    },
    {
      "cell_type": "code",
      "metadata": {
        "id": "ufMF-zQdVe1_",
        "colab_type": "code",
        "colab": {
          "base_uri": "https://localhost:8080/",
          "height": 272
        },
        "outputId": "7bdef9e4-6746-46c8-8ad7-8c429fe1b919"
      },
      "source": [
        "q = 500\n",
        "layers = [1, 50, 50, 50, 50, q + 1]\n",
        "lb = np.array([0])\n",
        "ub = np.array([1.0])\n",
        "\n",
        "N = 200\n",
        "epochs = 10\n",
        "\n",
        "max_iter = 0\n",
        "\n",
        "data = scipy.io.loadmat('heat1D.mat')\n",
        "\n",
        "t = data['ts'].flatten()[:, None]  # T x 1\n",
        "x = data['xs'].flatten()[:, None]  # N x 1\n",
        "Exact = np.real(data['usol']).T  # T x N\n",
        "\n",
        "idx_t0 = 20\n",
        "idx_t1 = 120\n",
        "t0 = t[idx_t0]\n",
        "dt = t[idx_t1] - t[idx_t0]\n",
        "\n",
        "# Initial data\n",
        "noise_u0 = 0.0\n",
        "idx_x = np.random.choice(Exact.shape[1], N, replace=False)\n",
        "x0 = x[idx_x, :]\n",
        "u0 = Exact[idx_t0:idx_t0 + 1, idx_x].T\n",
        "u0 = u0 + noise_u0 * np.std(u0) * np.random.randn(u0.shape[0], u0.shape[1])\n",
        "\n",
        "# Boudanry data\n",
        "x1 = np.vstack((lb, ub))\n",
        "\n",
        "# Test data\n",
        "x_star = x\n",
        "\n",
        "model = PhysicsInformedNN(x0, u0, x1, layers, t0, dt, lb, ub, q, max_iter)\n",
        "model.train(epochs)\n",
        "\n",
        "U1_pred = model.predict(x_star)\n",
        "\n",
        "error = np.linalg.norm(U1_pred[:, -1] - Exact[idx_t1, :], 2) / np.linalg.norm(Exact[idx_t1, :], 2)\n",
        "print('Error: %e' % (error))\n"
      ],
      "execution_count": 21,
      "outputs": [
        {
          "output_type": "stream",
          "text": [
            "Device mapping:\n",
            "/job:localhost/replica:0/task:0/device:XLA_CPU:0 -> device: XLA_CPU device\n",
            "/job:localhost/replica:0/task:0/device:XLA_GPU:0 -> device: XLA_GPU device\n",
            "/job:localhost/replica:0/task:0/device:GPU:0 -> device: 0, name: Tesla T4, pci bus id: 0000:00:04.0, compute capability: 7.5\n",
            "\n",
            "It: 0, Loss: 9.661e+04, Time: 0.97\n",
            "Loss: 96604.914\n",
            "Loss: 96601.49\n",
            "Loss: 96594.45\n",
            "INFO:tensorflow:Optimization terminated with:\n",
            "  Message: b'STOP: TOTAL NO. of ITERATIONS REACHED LIMIT'\n",
            "  Objective function value: 96594.453125\n",
            "  Number of iterations: 1\n",
            "  Number of functions evaluations: 3\n",
            "Error: 9.993583e-01\n"
          ],
          "name": "stdout"
        }
      ]
    },
    {
      "cell_type": "markdown",
      "metadata": {
        "id": "qxnP8sFjqyuk",
        "colab_type": "text"
      },
      "source": [
        "# plotting"
      ]
    },
    {
      "cell_type": "code",
      "metadata": {
        "id": "xtMbqo4lq04o",
        "colab_type": "code",
        "colab": {
          "base_uri": "https://localhost:8080/",
          "height": 357
        },
        "outputId": "ecc23ebd-976a-4ccc-9692-843e8286c2af"
      },
      "source": [
        "######################################################################\n",
        "############################# Plotting ###############################\n",
        "######################################################################\n",
        "\n",
        "fig, ax = newfig(1.0, 1.2)\n",
        "ax.axis('off')\n",
        "\n",
        "####### Row 0: h(t,x) ##################\n",
        "gs0 = gridspec.GridSpec(1, 2)\n",
        "gs0.update(top=1 - 0.06, bottom=1 - 1 / 2 + 0.1, left=0.15, right=0.85, wspace=0)\n",
        "ax = plt.subplot(gs0[:, :])\n",
        "\n",
        "h = ax.imshow(Exact.T, interpolation='bicubic', cmap='viridis',\n",
        "            extent=[t.min(), t.max(), x_star.min(), x_star.max()],\n",
        "            origin='lower', aspect='auto')\n",
        "divider = make_axes_locatable(ax)\n",
        "cax = divider.append_axes(\"right\", size=\"5%\", pad=0.05)\n",
        "fig.colorbar(h, cax=cax)\n",
        "\n",
        "line = np.linspace(x.min(), x.max(), 2)[:, None]\n",
        "ax.plot(t[idx_t0] * np.ones((2, 1)), line, 'w-', linewidth=1)\n",
        "ax.plot(t[idx_t1] * np.ones((2, 1)), line, 'w-', linewidth=1)\n",
        "\n",
        "ax.set_xlabel('$t$')\n",
        "ax.set_ylabel('$x$')\n",
        "leg = ax.legend(frameon=False, loc='best')\n",
        "ax.set_title('$u(t,x)$', fontsize=10)\n",
        "\n",
        "####### Row 1: h(t,x) slices ##################\n",
        "gs1 = gridspec.GridSpec(1, 2)\n",
        "gs1.update(top=1 - 1 / 2 - 0.05, bottom=0.15, left=0.15, right=0.85, wspace=0.5)\n",
        "\n",
        "ax = plt.subplot(gs1[0, 0])\n",
        "ax.plot(x, Exact[idx_t0, :], '-', color='silver', linewidth=2)\n",
        "ax.plot(x0, u0, 'kx', linewidth=2, label='Data')\n",
        "ax.set_xlabel('$x$')\n",
        "ax.set_ylabel('$u(t,x)$')\n",
        "ax.set_title('$t = %.2f$' % (t[idx_t0]), fontsize=10)\n",
        "ax.set_xlim([lb - 0.1, ub + 0.1])\n",
        "ax.legend(loc='upper center', bbox_to_anchor=(0.8, -0.3), ncol=2, frameon=False)\n",
        "\n",
        "ax = plt.subplot(gs1[0, 1])\n",
        "ax.plot(x, Exact[idx_t1, :], '-', color='silver', linewidth=2, label='Exact')\n",
        "ax.plot(x_star, U1_pred[:, -1], 'r--', linewidth=2, label='Prediction')\n",
        "ax.set_xlabel('$x$')\n",
        "ax.set_ylabel('$u(t,x)$')\n",
        "ax.set_title('$t = %.2f$' % (t[idx_t1]), fontsize=10)\n",
        "ax.set_xlim([lb - 0.1, ub + 0.1])\n",
        "\n",
        "ax.legend(loc='upper center', bbox_to_anchor=(0.1, -0.3), ncol=2, frameon=False)"
      ],
      "execution_count": 22,
      "outputs": [
        {
          "output_type": "stream",
          "text": [
            "No handles with labels found to put in legend.\n"
          ],
          "name": "stderr"
        },
        {
          "output_type": "execute_result",
          "data": {
            "text/plain": [
              "<matplotlib.legend.Legend at 0x7fdfc77a8710>"
            ]
          },
          "metadata": {
            "tags": []
          },
          "execution_count": 22
        },
        {
          "output_type": "display_data",
          "data": {
            "image/png": "[encoded data removed]",
            "text/plain": [
              "<Figure size 388.543x288.159 with 4 Axes>"
            ]
          },
          "metadata": {
            "tags": [],
            "needs_background": "light"
          }
        }
      ]
    }
  ]
}